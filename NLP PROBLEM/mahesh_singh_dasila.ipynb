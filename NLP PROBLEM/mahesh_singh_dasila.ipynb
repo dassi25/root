{
 "cells": [
  {
   "cell_type": "markdown",
   "metadata": {},
   "source": [
    "# Importing all the required libraries"
   ]
  },
  {
   "cell_type": "code",
   "execution_count": 1,
   "metadata": {},
   "outputs": [],
   "source": [
    "#importing all the required libraries\n",
    "import numpy as np\n",
    "import pandas as pd\n",
    "\n",
    "import matplotlib.pyplot as plt\n",
    "%matplotlib inline\n",
    "import seaborn as sns"
   ]
  },
  {
   "cell_type": "code",
   "execution_count": 2,
   "metadata": {},
   "outputs": [],
   "source": [
    "#nltk stands for natural language toolkit holding many different libraries\n",
    "import nltk"
   ]
  },
  {
   "cell_type": "code",
   "execution_count": 3,
   "metadata": {},
   "outputs": [],
   "source": [
    "#nltk.download_shell()"
   ]
  },
  {
   "cell_type": "code",
   "execution_count": 4,
   "metadata": {},
   "outputs": [],
   "source": [
    "#reading the dataset and putting in the dataframe df_train\n",
    "df_train=pd.read_csv('V1.4_Training.csv',names=['sentence','labels'])\n",
    "\n"
   ]
  },
  {
   "cell_type": "markdown",
   "metadata": {},
   "source": [
    "# DATA ANALYSIS AND DATA VISUALISATION "
   ]
  },
  {
   "cell_type": "code",
   "execution_count": 5,
   "metadata": {},
   "outputs": [
    {
     "data": {
      "text/html": [
       "<div>\n",
       "<style scoped>\n",
       "    .dataframe tbody tr th:only-of-type {\n",
       "        vertical-align: middle;\n",
       "    }\n",
       "\n",
       "    .dataframe tbody tr th {\n",
       "        vertical-align: top;\n",
       "    }\n",
       "\n",
       "    .dataframe thead th {\n",
       "        text-align: right;\n",
       "    }\n",
       "</style>\n",
       "<table border=\"1\" class=\"dataframe\">\n",
       "  <thead>\n",
       "    <tr style=\"text-align: right;\">\n",
       "      <th></th>\n",
       "      <th>sentence</th>\n",
       "      <th>labels</th>\n",
       "    </tr>\n",
       "  </thead>\n",
       "  <tbody>\n",
       "    <tr>\n",
       "      <th>663_3</th>\n",
       "      <td>\"Please enable removing language code from the...</td>\n",
       "      <td>1</td>\n",
       "    </tr>\n",
       "    <tr>\n",
       "      <th>663_4</th>\n",
       "      <td>\"Note: in your .csproj file, there is a Suppor...</td>\n",
       "      <td>0</td>\n",
       "    </tr>\n",
       "    <tr>\n",
       "      <th>664_1</th>\n",
       "      <td>\"Wich means the new version not fully replaced...</td>\n",
       "      <td>0</td>\n",
       "    </tr>\n",
       "    <tr>\n",
       "      <th>664_2</th>\n",
       "      <td>\"Some of my users will still receive the old x...</td>\n",
       "      <td>0</td>\n",
       "    </tr>\n",
       "    <tr>\n",
       "      <th>664_3</th>\n",
       "      <td>\"The store randomly gives the old xap or the n...</td>\n",
       "      <td>0</td>\n",
       "    </tr>\n",
       "  </tbody>\n",
       "</table>\n",
       "</div>"
      ],
      "text/plain": [
       "                                                sentence  labels\n",
       "663_3  \"Please enable removing language code from the...       1\n",
       "663_4  \"Note: in your .csproj file, there is a Suppor...       0\n",
       "664_1  \"Wich means the new version not fully replaced...       0\n",
       "664_2  \"Some of my users will still receive the old x...       0\n",
       "664_3  \"The store randomly gives the old xap or the n...       0"
      ]
     },
     "execution_count": 5,
     "metadata": {},
     "output_type": "execute_result"
    }
   ],
   "source": [
    "#showing the first 5 entry\n",
    "df_train.head()"
   ]
  },
  {
   "cell_type": "code",
   "execution_count": 6,
   "metadata": {},
   "outputs": [
    {
     "name": "stdout",
     "output_type": "stream",
     "text": [
      "<class 'pandas.core.frame.DataFrame'>\n",
      "Index: 8500 entries, 663_3 to 2844\n",
      "Data columns (total 2 columns):\n",
      "sentence    8500 non-null object\n",
      "labels      8500 non-null int64\n",
      "dtypes: int64(1), object(1)\n",
      "memory usage: 199.2+ KB\n"
     ]
    }
   ],
   "source": [
    "#here total 8500 enteries are there\n",
    "df_train.info()"
   ]
  },
  {
   "cell_type": "code",
   "execution_count": 7,
   "metadata": {},
   "outputs": [
    {
     "name": "stdout",
     "output_type": "stream",
     "text": [
      "Total sentences in the dataset : 8500\n",
      "Total suggestions out of given sentences: 2085\n",
      "Total non_suggestions  out of given sentences: 6415\n"
     ]
    }
   ],
   "source": [
    "#here the value in the label that is 0 and 1 telling us that all those statements having 0 are not suggestion and for 1\n",
    "# it is the suggestion.\n",
    "suggestion_count = (df_train['labels'].values == 1).astype(int).sum()\n",
    "non_suggestion_count = (df_train['labels'].values == 0).astype(int).sum()\n",
    "print(\"Total sentences in the dataset : \" + str(df_train.shape[0]))\n",
    "print(\"Total suggestions out of given sentences: \" + str(suggestion_count))\n",
    "print(\"Total non_suggestions  out of given sentences: \" + str(non_suggestion_count))"
   ]
  },
  {
   "cell_type": "code",
   "execution_count": 8,
   "metadata": {},
   "outputs": [
    {
     "name": "stdout",
     "output_type": "stream",
     "text": [
      "<class 'pandas.core.frame.DataFrame'>\n",
      "RangeIndex: 12830 entries, 0 to 12829\n",
      "Data columns (total 2 columns):\n",
      "sentence    12830 non-null object\n",
      "labels      12830 non-null int64\n",
      "dtypes: int64(1), object(1)\n",
      "memory usage: 200.5+ KB\n"
     ]
    }
   ],
   "source": [
    "#as you can see the data imblance is there as number of suggestion are very less than non suggestion,so for that i am making it \n",
    "# balance by appending samples to suggestion.\n",
    "suggestions =df_train[df_train['labels'].values == 1]\n",
    "\n",
    "while suggestion_count < non_suggestion_count:\n",
    "    random_suggestion = suggestions.sample()\n",
    "    df_train = df_train.append(random_suggestion, ignore_index = True)\n",
    "    suggestion_count = suggestion_count + 1\n",
    "\n",
    "df_train.info()"
   ]
  },
  {
   "cell_type": "code",
   "execution_count": 9,
   "metadata": {},
   "outputs": [
    {
     "name": "stdout",
     "output_type": "stream",
     "text": [
      "Total sentences in the dataset : 12830\n",
      "Total suggestions out of given sentences: 6415\n",
      "Total non_suggestions  out of given sentences: 6415\n"
     ]
    }
   ],
   "source": [
    "# Now you can see that the data is balance now.Both the suggestion and non-suggestion are equal.\n",
    "suggestion_count = (df_train['labels'].values == 1).astype(int).sum()\n",
    "non_suggestion_count = (df_train['labels'].values == 0).astype(int).sum()\n",
    "print(\"Total sentences in the dataset : \" + str(df_train.shape[0]))\n",
    "print(\"Total suggestions out of given sentences: \" + str(suggestion_count))\n",
    "print(\"Total non_suggestions  out of given sentences: \" + str(non_suggestion_count))\n",
    "               "
   ]
  },
  {
   "cell_type": "code",
   "execution_count": 112,
   "metadata": {},
   "outputs": [
    {
     "data": {
      "text/plain": [
       "<matplotlib.axes._subplots.AxesSubplot at 0x261e2034f98>"
      ]
     },
     "execution_count": 112,
     "metadata": {},
     "output_type": "execute_result"
    },
    {
     "data": {
      "image/png": "[encoded data removed]",
      "text/plain": [
       "<matplotlib.figure.Figure at 0x261e1feea58>"
      ]
     },
     "metadata": {},
     "output_type": "display_data"
    }
   ],
   "source": [
    "#the histogram of the labels value that is 1 and 0 that why showing rise in 1 and 0 only\n",
    "df_train['labels'].plot.hist(bins=50)"
   ]
  },
  {
   "cell_type": "code",
   "execution_count": 114,
   "metadata": {},
   "outputs": [
    {
     "data": {
      "text/plain": [
       "array([<matplotlib.axes._subplots.AxesSubplot object at 0x00000261DFC67470>,\n",
       "       <matplotlib.axes._subplots.AxesSubplot object at 0x00000261E2605C88>],\n",
       "      dtype=object)"
      ]
     },
     "execution_count": 114,
     "metadata": {},
     "output_type": "execute_result"
    },
    {
     "data": {
      "image/png": "[encoded data removed]",
      "text/plain": [
       "<matplotlib.figure.Figure at 0x261e24cb128>"
      ]
     },
     "metadata": {},
     "output_type": "display_data"
    }
   ],
   "source": [
    "#here both are differently showed  by labels that is 0 and 1 where 0for non suggestion and 1 for suggestion.\n",
    "df_train.hist(column='labels',by='labels',bins=50,figsize=(15,4))"
   ]
  },
  {
   "cell_type": "markdown",
   "metadata": {},
   "source": [
    "# PRE-PROCESSING\n",
    "*** Here i am showing the basic example for cleaning of a sentence by removing the punctuation and stopwords because it will help then makin it more efficient***"
   ]
  },
  {
   "cell_type": "code",
   "execution_count": 10,
   "metadata": {},
   "outputs": [],
   "source": [
    "import string\n",
    "    "
   ]
  },
  {
   "cell_type": "code",
   "execution_count": 11,
   "metadata": {},
   "outputs": [],
   "source": [
    "mess=\"hi there , my name is mahesh !\""
   ]
  },
  {
   "cell_type": "code",
   "execution_count": 12,
   "metadata": {},
   "outputs": [],
   "source": [
    "#here removing the punctuation\n",
    "nopunc=[c for c in mess if c not in string.punctuation]"
   ]
  },
  {
   "cell_type": "code",
   "execution_count": 13,
   "metadata": {},
   "outputs": [],
   "source": [
    "nopunc=''.join(nopunc)"
   ]
  },
  {
   "cell_type": "code",
   "execution_count": 14,
   "metadata": {},
   "outputs": [
    {
     "data": {
      "text/plain": [
       "'hi there  my name is mahesh '"
      ]
     },
     "execution_count": 14,
     "metadata": {},
     "output_type": "execute_result"
    }
   ],
   "source": [
    "nopunc"
   ]
  },
  {
   "cell_type": "code",
   "execution_count": 15,
   "metadata": {},
   "outputs": [
    {
     "data": {
      "text/plain": [
       "['hi', 'there', 'my', 'name', 'is', 'mahesh']"
      ]
     },
     "execution_count": 15,
     "metadata": {},
     "output_type": "execute_result"
    }
   ],
   "source": [
    "nopunc.split()"
   ]
  },
  {
   "cell_type": "code",
   "execution_count": 16,
   "metadata": {},
   "outputs": [],
   "source": [
    "#importing stopwords from nltk \n",
    "from nltk.corpus import stopwords"
   ]
  },
  {
   "cell_type": "code",
   "execution_count": 17,
   "metadata": {},
   "outputs": [],
   "source": [
    "#stopwords.words('english')"
   ]
  },
  {
   "cell_type": "code",
   "execution_count": 18,
   "metadata": {},
   "outputs": [
    {
     "data": {
      "text/plain": [
       "['hi', 'there', 'my', 'name', 'is', 'mahesh']"
      ]
     },
     "execution_count": 18,
     "metadata": {},
     "output_type": "execute_result"
    }
   ],
   "source": [
    "nopunc.split()"
   ]
  },
  {
   "cell_type": "code",
   "execution_count": 19,
   "metadata": {},
   "outputs": [],
   "source": [
    "mess=[word for word in nopunc.split() if word.lower() not in stopwords.words('english')]"
   ]
  },
  {
   "cell_type": "code",
   "execution_count": 20,
   "metadata": {},
   "outputs": [
    {
     "data": {
      "text/plain": [
       "['hi', 'name', 'mahesh']"
      ]
     },
     "execution_count": 20,
     "metadata": {},
     "output_type": "execute_result"
    }
   ],
   "source": [
    "# As you can see that we can tokenize and also after cleaning we are left with important words. \n",
    "mess"
   ]
  },
  {
   "cell_type": "code",
   "execution_count": 21,
   "metadata": {},
   "outputs": [],
   "source": [
    "#applying now to the function\n",
    "def text_process(mess):\n",
    "    \n",
    "    \"remove the punctuation\"\n",
    "    \"remove the stopwords\"\n",
    "    \"return list of clean text words\"\n",
    "    nopunc = [char for char in mess if char not in string.punctuation]\n",
    "    nopunc = ''.join(nopunc)\n",
    "    return [word for word in nopunc.split() if word.lower() not in stopwords.words('english')]\n"
   ]
  },
  {
   "cell_type": "code",
   "execution_count": 22,
   "metadata": {},
   "outputs": [
    {
     "data": {
      "text/html": [
       "<div>\n",
       "<style scoped>\n",
       "    .dataframe tbody tr th:only-of-type {\n",
       "        vertical-align: middle;\n",
       "    }\n",
       "\n",
       "    .dataframe tbody tr th {\n",
       "        vertical-align: top;\n",
       "    }\n",
       "\n",
       "    .dataframe thead th {\n",
       "        text-align: right;\n",
       "    }\n",
       "</style>\n",
       "<table border=\"1\" class=\"dataframe\">\n",
       "  <thead>\n",
       "    <tr style=\"text-align: right;\">\n",
       "      <th></th>\n",
       "      <th>sentence</th>\n",
       "      <th>labels</th>\n",
       "    </tr>\n",
       "  </thead>\n",
       "  <tbody>\n",
       "    <tr>\n",
       "      <th>0</th>\n",
       "      <td>\"Please enable removing language code from the...</td>\n",
       "      <td>1</td>\n",
       "    </tr>\n",
       "    <tr>\n",
       "      <th>1</th>\n",
       "      <td>\"Note: in your .csproj file, there is a Suppor...</td>\n",
       "      <td>0</td>\n",
       "    </tr>\n",
       "    <tr>\n",
       "      <th>2</th>\n",
       "      <td>\"Wich means the new version not fully replaced...</td>\n",
       "      <td>0</td>\n",
       "    </tr>\n",
       "    <tr>\n",
       "      <th>3</th>\n",
       "      <td>\"Some of my users will still receive the old x...</td>\n",
       "      <td>0</td>\n",
       "    </tr>\n",
       "    <tr>\n",
       "      <th>4</th>\n",
       "      <td>\"The store randomly gives the old xap or the n...</td>\n",
       "      <td>0</td>\n",
       "    </tr>\n",
       "    <tr>\n",
       "      <th>5</th>\n",
       "      <td>\"My app has a WP7 version and a WP8 version XA...</td>\n",
       "      <td>0</td>\n",
       "    </tr>\n",
       "    <tr>\n",
       "      <th>6</th>\n",
       "      <td>\"The wp7 xap works only on WP7 and the wp8 xap...</td>\n",
       "      <td>0</td>\n",
       "    </tr>\n",
       "    <tr>\n",
       "      <th>7</th>\n",
       "      <td>\"Sometimes the Store gives the wrong wp7 xap v...</td>\n",
       "      <td>0</td>\n",
       "    </tr>\n",
       "    <tr>\n",
       "      <th>8</th>\n",
       "      <td>\"It should be an option to remove the \"ru\" lan...</td>\n",
       "      <td>1</td>\n",
       "    </tr>\n",
       "    <tr>\n",
       "      <th>9</th>\n",
       "      <td>\"Currently if you ever mistakenly selected a \"...</td>\n",
       "      <td>0</td>\n",
       "    </tr>\n",
       "  </tbody>\n",
       "</table>\n",
       "</div>"
      ],
      "text/plain": [
       "                                            sentence  labels\n",
       "0  \"Please enable removing language code from the...       1\n",
       "1  \"Note: in your .csproj file, there is a Suppor...       0\n",
       "2  \"Wich means the new version not fully replaced...       0\n",
       "3  \"Some of my users will still receive the old x...       0\n",
       "4  \"The store randomly gives the old xap or the n...       0\n",
       "5  \"My app has a WP7 version and a WP8 version XA...       0\n",
       "6  \"The wp7 xap works only on WP7 and the wp8 xap...       0\n",
       "7  \"Sometimes the Store gives the wrong wp7 xap v...       0\n",
       "8  \"It should be an option to remove the \"ru\" lan...       1\n",
       "9  \"Currently if you ever mistakenly selected a \"...       0"
      ]
     },
     "execution_count": 22,
     "metadata": {},
     "output_type": "execute_result"
    }
   ],
   "source": [
    "df_train.head(10)"
   ]
  },
  {
   "cell_type": "code",
   "execution_count": 23,
   "metadata": {},
   "outputs": [
    {
     "data": {
      "text/plain": [
       "0    [Please, enable, removing, language, code, Dev...\n",
       "1    [Note, csproj, file, SupportedCultures, entry,...\n",
       "2    [Wich, means, new, version, fully, replaced, o...\n",
       "3      [users, still, receive, old, xap, version, app]\n",
       "4    [store, randomly, gives, old, xap, new, xap, v...\n",
       "5    [app, WP7, version, WP8, version, XAP, submiss...\n",
       "6         [wp7, xap, works, WP7, wp8, xap, works, WP8]\n",
       "7    [Sometimes, Store, gives, wrong, wp7, xap, ver...\n",
       "8    [option, remove, ru, language, code, app, lang...\n",
       "9    [Currently, ever, mistakenly, selected, ru, la...\n",
       "Name: sentence, dtype: object"
      ]
     },
     "execution_count": 23,
     "metadata": {},
     "output_type": "execute_result"
    }
   ],
   "source": [
    "#the text process function passes to the all the sentences for the pre-processing or cleaning.\n",
    "df_train['sentence'].head(10).apply(text_process)"
   ]
  },
  {
   "cell_type": "markdown",
   "metadata": {},
   "source": [
    "# FEATURE EXTRACTION\n"
   ]
  },
  {
   "cell_type": "code",
   "execution_count": 24,
   "metadata": {},
   "outputs": [],
   "source": [
    "#The CountVectorizer provides a simple way to both tokenize a collection of text documents and build a vocabulary of known word.\n",
    "from sklearn.feature_extraction.text import CountVectorizer "
   ]
  },
  {
   "cell_type": "code",
   "execution_count": 25,
   "metadata": {},
   "outputs": [],
   "source": [
    "#this bag of words creating a very big matrix,so it may take time to execute.\n",
    "bow_transformer= CountVectorizer(analyzer=text_process).fit(df_train['sentence'])"
   ]
  },
  {
   "cell_type": "code",
   "execution_count": 26,
   "metadata": {},
   "outputs": [
    {
     "name": "stdout",
     "output_type": "stream",
     "text": [
      "12137\n"
     ]
    }
   ],
   "source": [
    "#it is just going to print total number of vocab words\n",
    "print(len(bow_transformer.vocabulary_))"
   ]
  },
  {
   "cell_type": "code",
   "execution_count": 27,
   "metadata": {},
   "outputs": [],
   "source": [
    "#now taking one sample text message and getting count of the bow(bag of words)\n",
    "\n",
    "sentence1=df_train['sentence'][0]"
   ]
  },
  {
   "cell_type": "code",
   "execution_count": 28,
   "metadata": {},
   "outputs": [
    {
     "name": "stdout",
     "output_type": "stream",
     "text": [
      "\"Please enable removing language code from the Dev Center \"language history\" For example if you ever selected \"ru\" and \"ru-ru\" laguages and you published this xap to the Store then it causes Tile localization to show the en-us(default) tile localization which is bad.\"\n"
     ]
    }
   ],
   "source": [
    "print(sentence1)"
   ]
  },
  {
   "cell_type": "code",
   "execution_count": 29,
   "metadata": {},
   "outputs": [],
   "source": [
    "#here the bow has been created for the sentence  and the sentence1 has been passed as item.\n",
    "bow1= bow_transformer.transform([sentence1])"
   ]
  },
  {
   "cell_type": "code",
   "execution_count": 30,
   "metadata": {
    "scrolled": true
   },
   "outputs": [
    {
     "name": "stdout",
     "output_type": "stream",
     "text": [
      "  (0, 899)\t1\n",
      "  (0, 1233)\t1\n",
      "  (0, 2873)\t1\n",
      "  (0, 3500)\t1\n",
      "  (0, 3685)\t1\n",
      "  (0, 4831)\t1\n",
      "  (0, 5201)\t1\n",
      "  (0, 5391)\t1\n",
      "  (0, 6395)\t1\n",
      "  (0, 6472)\t1\n",
      "  (0, 6516)\t1\n",
      "  (0, 6530)\t1\n",
      "  (0, 7284)\t1\n",
      "  (0, 8090)\t1\n",
      "  (0, 8095)\t2\n",
      "  (0, 8263)\t2\n",
      "  (0, 9682)\t1\n",
      "  (0, 9990)\t1\n",
      "  (0, 10230)\t1\n",
      "  (0, 10242)\t1\n",
      "  (0, 10391)\t1\n",
      "  (0, 10514)\t1\n",
      "  (0, 11231)\t1\n",
      "  (0, 12056)\t1\n"
     ]
    }
   ],
   "source": [
    "#after printing it will show the count of the number of word occur in a paricular sentence.\n",
    "print(bow1)"
   ]
  },
  {
   "cell_type": "code",
   "execution_count": 31,
   "metadata": {},
   "outputs": [
    {
     "data": {
      "text/plain": [
       "'language'"
      ]
     },
     "execution_count": 31,
     "metadata": {},
     "output_type": "execute_result"
    }
   ],
   "source": [
    "#now here we are checking that sentence in which the word is coming 2 times,here it is language ,you can see sentence1 and verify\n",
    "\n",
    "bow_transformer.get_feature_names()[8095]"
   ]
  },
  {
   "cell_type": "code",
   "execution_count": 32,
   "metadata": {},
   "outputs": [],
   "source": [
    "#here the bow has been created for the all sentences and the sentences has been passed as item.\n",
    "bow_all= bow_transformer.transform(df_train['sentence'])"
   ]
  },
  {
   "cell_type": "code",
   "execution_count": 39,
   "metadata": {},
   "outputs": [],
   "source": [
    "from sklearn.feature_extraction.text import TfidfTransformer"
   ]
  },
  {
   "cell_type": "code",
   "execution_count": 50,
   "metadata": {},
   "outputs": [],
   "source": [
    "tfidf_transformer = TfidfTransformer().fit(bow_all)"
   ]
  },
  {
   "cell_type": "code",
   "execution_count": 51,
   "metadata": {},
   "outputs": [],
   "source": [
    "#for a single sentence\n",
    "\n",
    "tfidf1 = tfidf_transformer.transform(bow1)"
   ]
  },
  {
   "cell_type": "code",
   "execution_count": 52,
   "metadata": {},
   "outputs": [
    {
     "name": "stdout",
     "output_type": "stream",
     "text": [
      "  (0, 12056)\t0.20506949266292765\n",
      "  (0, 11231)\t0.16978814224063482\n",
      "  (0, 10514)\t0.1468014356159061\n",
      "  (0, 10391)\t0.17452335377402386\n",
      "  (0, 10242)\t0.21830612493909113\n",
      "  (0, 10230)\t0.1952601904693397\n",
      "  (0, 9990)\t0.20506949266292765\n",
      "  (0, 9682)\t0.18329427733827403\n",
      "  (0, 8263)\t0.40145634656722046\n",
      "  (0, 8095)\t0.3303218067008133\n",
      "  (0, 8090)\t0.2270409654363574\n",
      "  (0, 7284)\t0.19212776182405572\n",
      "  (0, 6530)\t0.1382947961517365\n",
      "  (0, 6516)\t0.19696755138302763\n",
      "  (0, 6472)\t0.2270409654363574\n",
      "  (0, 6395)\t0.16516090335040665\n",
      "  (0, 5391)\t0.13775214294822824\n",
      "  (0, 5201)\t0.1899877836488837\n",
      "  (0, 4831)\t0.1774465652215899\n",
      "  (0, 3685)\t0.20506949266292765\n",
      "  (0, 3500)\t0.1431894305769769\n",
      "  (0, 2873)\t0.10561948511785868\n",
      "  (0, 1233)\t0.17532806080264574\n",
      "  (0, 899)\t0.1708123580183146\n"
     ]
    }
   ],
   "source": [
    "print(tfidf1)"
   ]
  },
  {
   "cell_type": "code",
   "execution_count": 57,
   "metadata": {},
   "outputs": [
    {
     "data": {
      "text/plain": [
       "4.8428482992284465"
      ]
     },
     "execution_count": 57,
     "metadata": {},
     "output_type": "execute_result"
    }
   ],
   "source": [
    "#checking the inverse document frequency of a paricular word\n",
    "\n",
    "tfidf_transformer.idf_[bow_transformer.vocabulary_['please']]"
   ]
  },
  {
   "cell_type": "code",
   "execution_count": 58,
   "metadata": {},
   "outputs": [],
   "source": [
    "tfidf_all=tfidf_transformer.transform(bow_all)"
   ]
  },
  {
   "cell_type": "code",
   "execution_count": 59,
   "metadata": {},
   "outputs": [],
   "source": [
    "#now i am using naive bayes classifier\n",
    "from sklearn.naive_bayes import MultinomialNB"
   ]
  },
  {
   "cell_type": "code",
   "execution_count": 61,
   "metadata": {},
   "outputs": [],
   "source": [
    "model=MultinomialNB().fit(tfidf_all,df_train['labels'])"
   ]
  },
  {
   "cell_type": "code",
   "execution_count": 1,
   "metadata": {},
   "outputs": [],
   "source": [
    "#JUST TRYING TO CHANGE THE VALUES TO SUGGESTION AND NON-SUGGESTION\n",
    "#    for  c in c:\n",
    "#     (df_train['labels'].values == 1):\n",
    " #       df_train['labels'][c]=df_train['labels']['suggestion']\n",
    "   # else:\n",
    "  #      df_train['labels']=df_train['labels']['not suggestion']"
   ]
  },
  {
   "cell_type": "code",
   "execution_count": 64,
   "metadata": {},
   "outputs": [
    {
     "data": {
      "text/plain": [
       "1"
      ]
     },
     "execution_count": 64,
     "metadata": {},
     "output_type": "execute_result"
    }
   ],
   "source": [
    "# the given sentence is giving value 1 ,that meant it is a suggestion\n",
    "model.predict(tfidf1)[0]"
   ]
  },
  {
   "cell_type": "code",
   "execution_count": 77,
   "metadata": {},
   "outputs": [
    {
     "data": {
      "text/plain": [
       "array([1, 0, 0, ..., 1, 1, 0], dtype=int64)"
      ]
     },
     "execution_count": 77,
     "metadata": {},
     "output_type": "execute_result"
    }
   ],
   "source": [
    "all_pred = model.predict(tfidf_all)\n",
    "all_pred"
   ]
  },
  {
   "cell_type": "code",
   "execution_count": 78,
   "metadata": {},
   "outputs": [],
   "source": [
    "from sklearn.cross_validation import train_test_split"
   ]
  },
  {
   "cell_type": "code",
   "execution_count": 80,
   "metadata": {},
   "outputs": [],
   "source": [
    "X_train, X_test, y_train, y_test = train_test_split( df_train['sentence'], df_train['labels'], test_size=0.33)"
   ]
  },
  {
   "cell_type": "code",
   "execution_count": 85,
   "metadata": {},
   "outputs": [],
   "source": [
    "#Xtrain,X_test,y_test,y_train\n",
    "#we can check indivuallly an here dataset have been divided for training and testing"
   ]
  },
  {
   "cell_type": "markdown",
   "metadata": {},
   "source": [
    "# PIPELINE\n",
    "***The purpose of the pipeline is to assemble several steps that can be cross-validated together while setting different parameters.Also if we are using pipeline we do not have to use the all the above procedure as pipeline  makes  it very easier."
   ]
  },
  {
   "cell_type": "code",
   "execution_count": 87,
   "metadata": {},
   "outputs": [],
   "source": [
    "from sklearn.pipeline import Pipeline"
   ]
  },
  {
   "cell_type": "code",
   "execution_count": 101,
   "metadata": {},
   "outputs": [],
   "source": [
    "pipeline=Pipeline([\n",
    "        ('bow',CountVectorizer(analyzer=text_process)),\n",
    "        ('tfidf',TfidfTransformer()),\n",
    "        ('classifier',MultinomialNB())\n",
    "       \n",
    "    \n",
    "    \n",
    "         ])"
   ]
  },
  {
   "cell_type": "code",
   "execution_count": 90,
   "metadata": {},
   "outputs": [
    {
     "data": {
      "text/plain": [
       "Pipeline(memory=None,\n",
       "     steps=[('bow', CountVectorizer(analyzer=<function text_process at 0x00000261DE09EF28>,\n",
       "        binary=False, decode_error='strict', dtype=<class 'numpy.int64'>,\n",
       "        encoding='utf-8', input='content', lowercase=True, max_df=1.0,\n",
       "        max_features=None, min_df=1, ngram_range=(1, 1), preprocesso...f=False, use_idf=True)), ('classifier', MultinomialNB(alpha=1.0, class_prior=None, fit_prior=True))])"
      ]
     },
     "execution_count": 90,
     "metadata": {},
     "output_type": "execute_result"
    }
   ],
   "source": [
    "pipeline.fit(X_train,y_train)"
   ]
  },
  {
   "cell_type": "code",
   "execution_count": 91,
   "metadata": {},
   "outputs": [],
   "source": [
    "prediction=pipeline.predict(X_test)"
   ]
  },
  {
   "cell_type": "code",
   "execution_count": 92,
   "metadata": {},
   "outputs": [],
   "source": [
    "from sklearn.metrics import classification_report"
   ]
  },
  {
   "cell_type": "code",
   "execution_count": 93,
   "metadata": {},
   "outputs": [
    {
     "name": "stdout",
     "output_type": "stream",
     "text": [
      "             precision    recall  f1-score   support\n",
      "\n",
      "          0       0.91      0.69      0.78      2118\n",
      "          1       0.75      0.93      0.83      2116\n",
      "\n",
      "avg / total       0.83      0.81      0.81      4234\n",
      "\n"
     ]
    }
   ],
   "source": [
    "# Naive bayes classifier giving prediction for the suggestion and non suggestion\n",
    "print(classification_report(y_test,prediction))"
   ]
  },
  {
   "cell_type": "code",
   "execution_count": 94,
   "metadata": {},
   "outputs": [],
   "source": [
    "from sklearn.ensemble import RandomForestClassifier"
   ]
  },
  {
   "cell_type": "code",
   "execution_count": 104,
   "metadata": {},
   "outputs": [],
   "source": [
    "pipeline=Pipeline([\n",
    "        ('bow',CountVectorizer(analyzer=text_process)),\n",
    "        ('tfidf',TfidfTransformer()),\n",
    "        ('classifier2',RandomForestClassifier())\n",
    "    \n",
    "    \n",
    "         ])"
   ]
  },
  {
   "cell_type": "code",
   "execution_count": 105,
   "metadata": {},
   "outputs": [
    {
     "data": {
      "text/plain": [
       "Pipeline(memory=None,\n",
       "     steps=[('bow', CountVectorizer(analyzer=<function text_process at 0x00000261DE09EF28>,\n",
       "        binary=False, decode_error='strict', dtype=<class 'numpy.int64'>,\n",
       "        encoding='utf-8', input='content', lowercase=True, max_df=1.0,\n",
       "        max_features=None, min_df=1, ngram_range=(1, 1), preprocesso...n_jobs=1,\n",
       "            oob_score=False, random_state=None, verbose=0,\n",
       "            warm_start=False))])"
      ]
     },
     "execution_count": 105,
     "metadata": {},
     "output_type": "execute_result"
    }
   ],
   "source": [
    "pipeline.fit(X_train,y_train)"
   ]
  },
  {
   "cell_type": "code",
   "execution_count": 106,
   "metadata": {},
   "outputs": [],
   "source": [
    "prediction=pipeline.predict(X_test)"
   ]
  },
  {
   "cell_type": "code",
   "execution_count": 107,
   "metadata": {},
   "outputs": [],
   "source": [
    "from sklearn.metrics import classification_report"
   ]
  },
  {
   "cell_type": "code",
   "execution_count": 108,
   "metadata": {},
   "outputs": [
    {
     "name": "stdout",
     "output_type": "stream",
     "text": [
      "             precision    recall  f1-score   support\n",
      "\n",
      "          0       0.93      0.88      0.91      2118\n",
      "          1       0.89      0.94      0.91      2116\n",
      "\n",
      "avg / total       0.91      0.91      0.91      4234\n",
      "\n"
     ]
    }
   ],
   "source": [
    "#random forest classifier giving the predictions better than naive bayes classifier.\n",
    "print(classification_report(y_test,prediction))"
   ]
  },
  {
   "cell_type": "code",
   "execution_count": null,
   "metadata": {},
   "outputs": [],
   "source": []
  }
 ],
 "metadata": {
  "kernelspec": {
   "display_name": "Python 3",
   "language": "python",
   "name": "python3"
  },
  "language_info": {
   "codemirror_mode": {
    "name": "ipython",
    "version": 3
   },
   "file_extension": ".py",
   "mimetype": "text/x-python",
   "name": "python",
   "nbconvert_exporter": "python",
   "pygments_lexer": "ipython3",
   "version": "3.6.4"
  }
 },
 "nbformat": 4,
 "nbformat_minor": 2
}
